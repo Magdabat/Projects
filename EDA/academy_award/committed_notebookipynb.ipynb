{
 "cells": [
  {
   "cell_type": "markdown",
   "id": "5a16cf76",
   "metadata": {},
   "source": [
    "# Importing packages and data"
   ]
  },
  {
   "cell_type": "code",
   "execution_count": 1,
   "id": "6d2b77e1",
   "metadata": {
    "execution": {
     "iopub.execute_input": "2022-11-17T14:23:24.543835Z",
     "iopub.status.busy": "2022-11-17T14:23:24.543289Z",
     "iopub.status.idle": "2022-11-17T14:23:24.550816Z",
     "shell.execute_reply": "2022-11-17T14:23:24.549369Z",
     "shell.execute_reply.started": "2022-11-17T14:23:24.543789Z"
    }
   },
   "outputs": [],
   "source": [
    "import pandas as pd\n",
    "import seaborn as sns\n",
    "import matplotlib.pyplot as plt\n",
    "import numpy as np"
   ]
  },
  {
   "cell_type": "code",
   "execution_count": 2,
   "id": "00369615",
   "metadata": {
    "execution": {
     "iopub.execute_input": "2022-11-17T14:23:24.561159Z",
     "iopub.status.busy": "2022-11-17T14:23:24.560002Z",
     "iopub.status.idle": "2022-11-17T14:23:24.608182Z",
     "shell.execute_reply": "2022-11-17T14:23:24.607008Z",
     "shell.execute_reply.started": "2022-11-17T14:23:24.561078Z"
    }
   },
   "outputs": [
    {
     "data": {
      "text/html": [
       "<div>\n",
       "<style scoped>\n",
       "    .dataframe tbody tr th:only-of-type {\n",
       "        vertical-align: middle;\n",
       "    }\n",
       "\n",
       "    .dataframe tbody tr th {\n",
       "        vertical-align: top;\n",
       "    }\n",
       "\n",
       "    .dataframe thead th {\n",
       "        text-align: right;\n",
       "    }\n",
       "</style>\n",
       "<table border=\"1\" class=\"dataframe\">\n",
       "  <thead>\n",
       "    <tr style=\"text-align: right;\">\n",
       "      <th></th>\n",
       "      <th>year_film</th>\n",
       "      <th>year_ceremony</th>\n",
       "      <th>ceremony</th>\n",
       "      <th>category</th>\n",
       "      <th>name</th>\n",
       "      <th>film</th>\n",
       "      <th>winner</th>\n",
       "    </tr>\n",
       "  </thead>\n",
       "  <tbody>\n",
       "    <tr>\n",
       "      <th>0</th>\n",
       "      <td>1927</td>\n",
       "      <td>1928</td>\n",
       "      <td>1</td>\n",
       "      <td>ACTOR</td>\n",
       "      <td>Richard Barthelmess</td>\n",
       "      <td>The Noose</td>\n",
       "      <td>False</td>\n",
       "    </tr>\n",
       "    <tr>\n",
       "      <th>1</th>\n",
       "      <td>1927</td>\n",
       "      <td>1928</td>\n",
       "      <td>1</td>\n",
       "      <td>ACTOR</td>\n",
       "      <td>Emil Jannings</td>\n",
       "      <td>The Last Command</td>\n",
       "      <td>True</td>\n",
       "    </tr>\n",
       "    <tr>\n",
       "      <th>2</th>\n",
       "      <td>1927</td>\n",
       "      <td>1928</td>\n",
       "      <td>1</td>\n",
       "      <td>ACTRESS</td>\n",
       "      <td>Louise Dresser</td>\n",
       "      <td>A Ship Comes In</td>\n",
       "      <td>False</td>\n",
       "    </tr>\n",
       "    <tr>\n",
       "      <th>3</th>\n",
       "      <td>1927</td>\n",
       "      <td>1928</td>\n",
       "      <td>1</td>\n",
       "      <td>ACTRESS</td>\n",
       "      <td>Janet Gaynor</td>\n",
       "      <td>7th Heaven</td>\n",
       "      <td>True</td>\n",
       "    </tr>\n",
       "    <tr>\n",
       "      <th>4</th>\n",
       "      <td>1927</td>\n",
       "      <td>1928</td>\n",
       "      <td>1</td>\n",
       "      <td>ACTRESS</td>\n",
       "      <td>Gloria Swanson</td>\n",
       "      <td>Sadie Thompson</td>\n",
       "      <td>False</td>\n",
       "    </tr>\n",
       "  </tbody>\n",
       "</table>\n",
       "</div>"
      ],
      "text/plain": [
       "   year_film  year_ceremony  ceremony category                 name  \\\n",
       "0       1927           1928         1    ACTOR  Richard Barthelmess   \n",
       "1       1927           1928         1    ACTOR        Emil Jannings   \n",
       "2       1927           1928         1  ACTRESS       Louise Dresser   \n",
       "3       1927           1928         1  ACTRESS         Janet Gaynor   \n",
       "4       1927           1928         1  ACTRESS       Gloria Swanson   \n",
       "\n",
       "               film  winner  \n",
       "0         The Noose   False  \n",
       "1  The Last Command    True  \n",
       "2   A Ship Comes In   False  \n",
       "3        7th Heaven    True  \n",
       "4    Sadie Thompson   False  "
      ]
     },
     "execution_count": 2,
     "metadata": {},
     "output_type": "execute_result"
    }
   ],
   "source": [
    "oscars=pd.read_csv('the_oscar_award.csv')\n",
    "oscars.head()"
   ]
  },
  {
   "cell_type": "code",
   "execution_count": 3,
   "id": "21d4a3ff",
   "metadata": {
    "execution": {
     "iopub.execute_input": "2022-11-17T14:23:24.611467Z",
     "iopub.status.busy": "2022-11-17T14:23:24.610689Z",
     "iopub.status.idle": "2022-11-17T14:23:24.619277Z",
     "shell.execute_reply": "2022-11-17T14:23:24.617875Z",
     "shell.execute_reply.started": "2022-11-17T14:23:24.611421Z"
    }
   },
   "outputs": [
    {
     "data": {
      "text/plain": [
       "(10395, 7)"
      ]
     },
     "execution_count": 3,
     "metadata": {},
     "output_type": "execute_result"
    }
   ],
   "source": [
    "oscars.shape"
   ]
  },
  {
   "cell_type": "code",
   "execution_count": 4,
   "id": "7da685dc",
   "metadata": {
    "execution": {
     "iopub.execute_input": "2022-11-17T14:23:24.621840Z",
     "iopub.status.busy": "2022-11-17T14:23:24.621070Z",
     "iopub.status.idle": "2022-11-17T14:23:24.653162Z",
     "shell.execute_reply": "2022-11-17T14:23:24.652022Z",
     "shell.execute_reply.started": "2022-11-17T14:23:24.621797Z"
    }
   },
   "outputs": [
    {
     "data": {
      "text/html": [
       "<div>\n",
       "<style scoped>\n",
       "    .dataframe tbody tr th:only-of-type {\n",
       "        vertical-align: middle;\n",
       "    }\n",
       "\n",
       "    .dataframe tbody tr th {\n",
       "        vertical-align: top;\n",
       "    }\n",
       "\n",
       "    .dataframe thead th {\n",
       "        text-align: right;\n",
       "    }\n",
       "</style>\n",
       "<table border=\"1\" class=\"dataframe\">\n",
       "  <thead>\n",
       "    <tr style=\"text-align: right;\">\n",
       "      <th></th>\n",
       "      <th>year_film</th>\n",
       "      <th>year_ceremony</th>\n",
       "      <th>ceremony</th>\n",
       "    </tr>\n",
       "  </thead>\n",
       "  <tbody>\n",
       "    <tr>\n",
       "      <th>count</th>\n",
       "      <td>10395.000000</td>\n",
       "      <td>10395.000000</td>\n",
       "      <td>10395.000000</td>\n",
       "    </tr>\n",
       "    <tr>\n",
       "      <th>mean</th>\n",
       "      <td>1974.474555</td>\n",
       "      <td>1975.474555</td>\n",
       "      <td>47.500144</td>\n",
       "    </tr>\n",
       "    <tr>\n",
       "      <th>std</th>\n",
       "      <td>26.145642</td>\n",
       "      <td>26.145642</td>\n",
       "      <td>26.102352</td>\n",
       "    </tr>\n",
       "    <tr>\n",
       "      <th>min</th>\n",
       "      <td>1927.000000</td>\n",
       "      <td>1928.000000</td>\n",
       "      <td>1.000000</td>\n",
       "    </tr>\n",
       "    <tr>\n",
       "      <th>25%</th>\n",
       "      <td>1951.000000</td>\n",
       "      <td>1952.000000</td>\n",
       "      <td>24.000000</td>\n",
       "    </tr>\n",
       "    <tr>\n",
       "      <th>50%</th>\n",
       "      <td>1974.000000</td>\n",
       "      <td>1975.000000</td>\n",
       "      <td>47.000000</td>\n",
       "    </tr>\n",
       "    <tr>\n",
       "      <th>75%</th>\n",
       "      <td>1998.000000</td>\n",
       "      <td>1999.000000</td>\n",
       "      <td>71.000000</td>\n",
       "    </tr>\n",
       "    <tr>\n",
       "      <th>max</th>\n",
       "      <td>2019.000000</td>\n",
       "      <td>2020.000000</td>\n",
       "      <td>92.000000</td>\n",
       "    </tr>\n",
       "  </tbody>\n",
       "</table>\n",
       "</div>"
      ],
      "text/plain": [
       "          year_film  year_ceremony      ceremony\n",
       "count  10395.000000   10395.000000  10395.000000\n",
       "mean    1974.474555    1975.474555     47.500144\n",
       "std       26.145642      26.145642     26.102352\n",
       "min     1927.000000    1928.000000      1.000000\n",
       "25%     1951.000000    1952.000000     24.000000\n",
       "50%     1974.000000    1975.000000     47.000000\n",
       "75%     1998.000000    1999.000000     71.000000\n",
       "max     2019.000000    2020.000000     92.000000"
      ]
     },
     "execution_count": 4,
     "metadata": {},
     "output_type": "execute_result"
    }
   ],
   "source": [
    "oscars.describe()"
   ]
  },
  {
   "cell_type": "code",
   "execution_count": 5,
   "id": "747214ee",
   "metadata": {
    "execution": {
     "iopub.execute_input": "2022-11-17T14:23:24.656218Z",
     "iopub.status.busy": "2022-11-17T14:23:24.655772Z",
     "iopub.status.idle": "2022-11-17T14:23:24.670075Z",
     "shell.execute_reply": "2022-11-17T14:23:24.669080Z",
     "shell.execute_reply.started": "2022-11-17T14:23:24.656178Z"
    }
   },
   "outputs": [
    {
     "data": {
      "text/plain": [
       "year_film          0\n",
       "year_ceremony      0\n",
       "ceremony           0\n",
       "category           0\n",
       "name               0\n",
       "film             304\n",
       "winner             0\n",
       "dtype: int64"
      ]
     },
     "execution_count": 5,
     "metadata": {},
     "output_type": "execute_result"
    }
   ],
   "source": [
    "oscars.isna().sum()"
   ]
  },
  {
   "cell_type": "code",
   "execution_count": 6,
   "id": "5f15ce6c",
   "metadata": {
    "execution": {
     "iopub.execute_input": "2022-11-17T14:23:24.672045Z",
     "iopub.status.busy": "2022-11-17T14:23:24.671630Z",
     "iopub.status.idle": "2022-11-17T14:23:24.691526Z",
     "shell.execute_reply": "2022-11-17T14:23:24.690469Z",
     "shell.execute_reply.started": "2022-11-17T14:23:24.672006Z"
    }
   },
   "outputs": [
    {
     "data": {
      "text/plain": [
       "HONORARY AWARD                          124\n",
       "SPECIAL AWARD                            56\n",
       "IRVING G. THALBERG MEMORIAL AWARD        45\n",
       "JEAN HERSHOLT HUMANITARIAN AWARD         39\n",
       "ASSISTANT DIRECTOR                       18\n",
       "SOUND RECORDING                           8\n",
       "HONORARY FOREIGN LANGUAGE FILM AWARD      5\n",
       "SPECIAL ACHIEVEMENT AWARD                 3\n",
       "ENGINEERING EFFECTS                       2\n",
       "WRITING (Title Writing)                   2\n",
       "SPECIAL FOREIGN LANGUAGE FILM AWARD       2\n",
       "Name: category, dtype: int64"
      ]
     },
     "metadata": {},
     "output_type": "display_data"
    }
   ],
   "source": [
    "## For now, will drop missing values, but it is good to know what we are taking away\n",
    "oscars_nulls=oscars[oscars['film'].isnull()][['year_film','winner', 'category']]\n",
    "display(oscars_nulls.category.value_counts())\n",
    "\n",
    "#Look like the majority is honorary award given to an individual, thus no movie"
   ]
  },
  {
   "cell_type": "code",
   "execution_count": 7,
   "id": "6cd7d576",
   "metadata": {
    "execution": {
     "iopub.execute_input": "2022-11-17T14:23:24.693784Z",
     "iopub.status.busy": "2022-11-17T14:23:24.693107Z",
     "iopub.status.idle": "2022-11-17T14:23:24.727623Z",
     "shell.execute_reply": "2022-11-17T14:23:24.726202Z",
     "shell.execute_reply.started": "2022-11-17T14:23:24.693734Z"
    }
   },
   "outputs": [
    {
     "data": {
      "text/html": [
       "<div>\n",
       "<style scoped>\n",
       "    .dataframe tbody tr th:only-of-type {\n",
       "        vertical-align: middle;\n",
       "    }\n",
       "\n",
       "    .dataframe tbody tr th {\n",
       "        vertical-align: top;\n",
       "    }\n",
       "\n",
       "    .dataframe thead th {\n",
       "        text-align: right;\n",
       "    }\n",
       "</style>\n",
       "<table border=\"1\" class=\"dataframe\">\n",
       "  <thead>\n",
       "    <tr style=\"text-align: right;\">\n",
       "      <th></th>\n",
       "      <th>year_film</th>\n",
       "      <th>year_ceremony</th>\n",
       "      <th>ceremony</th>\n",
       "      <th>category</th>\n",
       "      <th>name</th>\n",
       "      <th>film</th>\n",
       "      <th>winner</th>\n",
       "    </tr>\n",
       "  </thead>\n",
       "  <tbody>\n",
       "    <tr>\n",
       "      <th>16</th>\n",
       "      <td>1927</td>\n",
       "      <td>1928</td>\n",
       "      <td>1</td>\n",
       "      <td>ENGINEERING EFFECTS</td>\n",
       "      <td>Ralph Hammeras</td>\n",
       "      <td>NaN</td>\n",
       "      <td>False</td>\n",
       "    </tr>\n",
       "    <tr>\n",
       "      <th>18</th>\n",
       "      <td>1927</td>\n",
       "      <td>1928</td>\n",
       "      <td>1</td>\n",
       "      <td>ENGINEERING EFFECTS</td>\n",
       "      <td>Nugent Slaughter</td>\n",
       "      <td>NaN</td>\n",
       "      <td>False</td>\n",
       "    </tr>\n",
       "    <tr>\n",
       "      <th>31</th>\n",
       "      <td>1927</td>\n",
       "      <td>1928</td>\n",
       "      <td>1</td>\n",
       "      <td>WRITING (Title Writing)</td>\n",
       "      <td>Joseph Farnham</td>\n",
       "      <td>NaN</td>\n",
       "      <td>True</td>\n",
       "    </tr>\n",
       "    <tr>\n",
       "      <th>32</th>\n",
       "      <td>1927</td>\n",
       "      <td>1928</td>\n",
       "      <td>1</td>\n",
       "      <td>WRITING (Title Writing)</td>\n",
       "      <td>George Marion, Jr.</td>\n",
       "      <td>NaN</td>\n",
       "      <td>False</td>\n",
       "    </tr>\n",
       "    <tr>\n",
       "      <th>33</th>\n",
       "      <td>1927</td>\n",
       "      <td>1928</td>\n",
       "      <td>1</td>\n",
       "      <td>SPECIAL AWARD</td>\n",
       "      <td>Warner Bros.</td>\n",
       "      <td>NaN</td>\n",
       "      <td>True</td>\n",
       "    </tr>\n",
       "    <tr>\n",
       "      <th>...</th>\n",
       "      <td>...</td>\n",
       "      <td>...</td>\n",
       "      <td>...</td>\n",
       "      <td>...</td>\n",
       "      <td>...</td>\n",
       "      <td>...</td>\n",
       "      <td>...</td>\n",
       "    </tr>\n",
       "    <tr>\n",
       "      <th>10266</th>\n",
       "      <td>2018</td>\n",
       "      <td>2019</td>\n",
       "      <td>91</td>\n",
       "      <td>IRVING G. THALBERG MEMORIAL AWARD</td>\n",
       "      <td>Kathleen Kennedy and Frank Marshall</td>\n",
       "      <td>NaN</td>\n",
       "      <td>True</td>\n",
       "    </tr>\n",
       "    <tr>\n",
       "      <th>10391</th>\n",
       "      <td>2019</td>\n",
       "      <td>2020</td>\n",
       "      <td>92</td>\n",
       "      <td>JEAN HERSHOLT HUMANITARIAN AWARD</td>\n",
       "      <td>Geena Davis</td>\n",
       "      <td>NaN</td>\n",
       "      <td>True</td>\n",
       "    </tr>\n",
       "    <tr>\n",
       "      <th>10392</th>\n",
       "      <td>2019</td>\n",
       "      <td>2020</td>\n",
       "      <td>92</td>\n",
       "      <td>HONORARY AWARD</td>\n",
       "      <td>David Lynch</td>\n",
       "      <td>NaN</td>\n",
       "      <td>True</td>\n",
       "    </tr>\n",
       "    <tr>\n",
       "      <th>10393</th>\n",
       "      <td>2019</td>\n",
       "      <td>2020</td>\n",
       "      <td>92</td>\n",
       "      <td>HONORARY AWARD</td>\n",
       "      <td>Wes Studi</td>\n",
       "      <td>NaN</td>\n",
       "      <td>True</td>\n",
       "    </tr>\n",
       "    <tr>\n",
       "      <th>10394</th>\n",
       "      <td>2019</td>\n",
       "      <td>2020</td>\n",
       "      <td>92</td>\n",
       "      <td>HONORARY AWARD</td>\n",
       "      <td>Lina Wertmüller</td>\n",
       "      <td>NaN</td>\n",
       "      <td>True</td>\n",
       "    </tr>\n",
       "  </tbody>\n",
       "</table>\n",
       "<p>304 rows × 7 columns</p>\n",
       "</div>"
      ],
      "text/plain": [
       "       year_film  year_ceremony  ceremony                           category  \\\n",
       "16          1927           1928         1                ENGINEERING EFFECTS   \n",
       "18          1927           1928         1                ENGINEERING EFFECTS   \n",
       "31          1927           1928         1            WRITING (Title Writing)   \n",
       "32          1927           1928         1            WRITING (Title Writing)   \n",
       "33          1927           1928         1                      SPECIAL AWARD   \n",
       "...          ...            ...       ...                                ...   \n",
       "10266       2018           2019        91  IRVING G. THALBERG MEMORIAL AWARD   \n",
       "10391       2019           2020        92   JEAN HERSHOLT HUMANITARIAN AWARD   \n",
       "10392       2019           2020        92                     HONORARY AWARD   \n",
       "10393       2019           2020        92                     HONORARY AWARD   \n",
       "10394       2019           2020        92                     HONORARY AWARD   \n",
       "\n",
       "                                      name film  winner  \n",
       "16                          Ralph Hammeras  NaN   False  \n",
       "18                        Nugent Slaughter  NaN   False  \n",
       "31                          Joseph Farnham  NaN    True  \n",
       "32                      George Marion, Jr.  NaN   False  \n",
       "33                            Warner Bros.  NaN    True  \n",
       "...                                    ...  ...     ...  \n",
       "10266  Kathleen Kennedy and Frank Marshall  NaN    True  \n",
       "10391                          Geena Davis  NaN    True  \n",
       "10392                          David Lynch  NaN    True  \n",
       "10393                            Wes Studi  NaN    True  \n",
       "10394                      Lina Wertmüller  NaN    True  \n",
       "\n",
       "[304 rows x 7 columns]"
      ]
     },
     "execution_count": 7,
     "metadata": {},
     "output_type": "execute_result"
    }
   ],
   "source": [
    "# Just checking what they are\n",
    "oscars[(oscars['category'].isin(oscars_nulls.category.value_counts().index)) & (oscars['film'].isnull())]"
   ]
  },
  {
   "cell_type": "code",
   "execution_count": 8,
   "id": "dd9f7a23",
   "metadata": {
    "execution": {
     "iopub.execute_input": "2022-11-17T14:23:24.730936Z",
     "iopub.status.busy": "2022-11-17T14:23:24.730273Z",
     "iopub.status.idle": "2022-11-17T14:23:24.749535Z",
     "shell.execute_reply": "2022-11-17T14:23:24.748397Z",
     "shell.execute_reply.started": "2022-11-17T14:23:24.730898Z"
    }
   },
   "outputs": [
    {
     "data": {
      "text/plain": [
       "(10091, 7)"
      ]
     },
     "execution_count": 8,
     "metadata": {},
     "output_type": "execute_result"
    }
   ],
   "source": [
    "oscars=oscars.dropna()\n",
    "oscars.shape\n",
    "# 10k movies to look at. I am sure, I'll find somethig interesting to watch"
   ]
  },
  {
   "cell_type": "markdown",
   "id": "a55db02c",
   "metadata": {},
   "source": [
    "# Award categories "
   ]
  },
  {
   "cell_type": "markdown",
   "id": "ac513655",
   "metadata": {},
   "source": [
    "There are over 100 categories in the dataset.\n",
    "Fortunately, Wikipedia lists the  most important awards (the big five): \n",
    "- Best Picture\n",
    "- Best Director\n",
    "- Best Actor\n",
    "- Best Actress\n",
    "- Best Screenplay \n",
    "\n",
    "So, let's focus on them!\n",
    "\n",
    "To do that, I loop through categories, clean-up (systematise names) - intuitaviely 100 categories is too much.\n",
    "\n",
    "And then categorise them into the big five or not"
   ]
  },
  {
   "cell_type": "code",
   "execution_count": 9,
   "id": "71b1826a",
   "metadata": {
    "execution": {
     "iopub.execute_input": "2022-11-17T14:23:24.752489Z",
     "iopub.status.busy": "2022-11-17T14:23:24.750966Z",
     "iopub.status.idle": "2022-11-17T14:23:24.771906Z",
     "shell.execute_reply": "2022-11-17T14:23:24.770654Z",
     "shell.execute_reply.started": "2022-11-17T14:23:24.752435Z"
    }
   },
   "outputs": [
    {
     "name": "stdout",
     "output_type": "stream",
     "text": [
      "104\n"
     ]
    },
    {
     "data": {
      "text/html": [
       "<div>\n",
       "<style scoped>\n",
       "    .dataframe tbody tr th:only-of-type {\n",
       "        vertical-align: middle;\n",
       "    }\n",
       "\n",
       "    .dataframe tbody tr th {\n",
       "        vertical-align: top;\n",
       "    }\n",
       "\n",
       "    .dataframe thead th {\n",
       "        text-align: right;\n",
       "    }\n",
       "</style>\n",
       "<table border=\"1\" class=\"dataframe\">\n",
       "  <thead>\n",
       "    <tr style=\"text-align: right;\">\n",
       "      <th></th>\n",
       "      <th>category</th>\n",
       "      <th>film</th>\n",
       "    </tr>\n",
       "  </thead>\n",
       "  <tbody>\n",
       "    <tr>\n",
       "      <th>0</th>\n",
       "      <td>DIRECTING</td>\n",
       "      <td>449</td>\n",
       "    </tr>\n",
       "    <tr>\n",
       "      <th>1</th>\n",
       "      <td>FILM EDITING</td>\n",
       "      <td>430</td>\n",
       "    </tr>\n",
       "    <tr>\n",
       "      <th>2</th>\n",
       "      <td>ACTOR IN A SUPPORTING ROLE</td>\n",
       "      <td>420</td>\n",
       "    </tr>\n",
       "    <tr>\n",
       "      <th>3</th>\n",
       "      <td>ACTRESS IN A SUPPORTING ROLE</td>\n",
       "      <td>420</td>\n",
       "    </tr>\n",
       "    <tr>\n",
       "      <th>4</th>\n",
       "      <td>DOCUMENTARY (Short Subject)</td>\n",
       "      <td>368</td>\n",
       "    </tr>\n",
       "    <tr>\n",
       "      <th>5</th>\n",
       "      <td>DOCUMENTARY (Feature)</td>\n",
       "      <td>335</td>\n",
       "    </tr>\n",
       "    <tr>\n",
       "      <th>6</th>\n",
       "      <td>BEST PICTURE</td>\n",
       "      <td>333</td>\n",
       "    </tr>\n",
       "    <tr>\n",
       "      <th>7</th>\n",
       "      <td>CINEMATOGRAPHY</td>\n",
       "      <td>318</td>\n",
       "    </tr>\n",
       "    <tr>\n",
       "      <th>8</th>\n",
       "      <td>FOREIGN LANGUAGE FILM</td>\n",
       "      <td>315</td>\n",
       "    </tr>\n",
       "    <tr>\n",
       "      <th>9</th>\n",
       "      <td>ART DIRECTION</td>\n",
       "      <td>307</td>\n",
       "    </tr>\n",
       "  </tbody>\n",
       "</table>\n",
       "</div>"
      ],
      "text/plain": [
       "                       category  film\n",
       "0                     DIRECTING   449\n",
       "1                  FILM EDITING   430\n",
       "2    ACTOR IN A SUPPORTING ROLE   420\n",
       "3  ACTRESS IN A SUPPORTING ROLE   420\n",
       "4   DOCUMENTARY (Short Subject)   368\n",
       "5         DOCUMENTARY (Feature)   335\n",
       "6                  BEST PICTURE   333\n",
       "7                CINEMATOGRAPHY   318\n",
       "8         FOREIGN LANGUAGE FILM   315\n",
       "9                 ART DIRECTION   307"
      ]
     },
     "metadata": {},
     "output_type": "display_data"
    }
   ],
   "source": [
    "by_cat=oscars.groupby(by='category', as_index=False).agg({'film':'count'})\n",
    "by_cat=by_cat.sort_values(by='film', ascending=False, ignore_index=True)\n",
    "print(len(by_cat))\n",
    "display(by_cat.head(10))"
   ]
  },
  {
   "cell_type": "code",
   "execution_count": 10,
   "id": "eae539e3",
   "metadata": {
    "execution": {
     "iopub.execute_input": "2022-11-17T14:23:24.777260Z",
     "iopub.status.busy": "2022-11-17T14:23:24.773597Z",
     "iopub.status.idle": "2022-11-17T14:23:24.787016Z",
     "shell.execute_reply": "2022-11-17T14:23:24.785654Z",
     "shell.execute_reply.started": "2022-11-17T14:23:24.777215Z"
    }
   },
   "outputs": [],
   "source": [
    "#Rewrite all categories in lower-case\n",
    "oscars['category']=[word.lower() for word in oscars['category']]"
   ]
  },
  {
   "cell_type": "markdown",
   "id": "b4259242",
   "metadata": {},
   "source": [
    "## Definiting useful functions"
   ]
  },
  {
   "cell_type": "code",
   "execution_count": 11,
   "id": "41f59fa7",
   "metadata": {
    "execution": {
     "iopub.execute_input": "2022-11-17T14:23:24.795381Z",
     "iopub.status.busy": "2022-11-17T14:23:24.794927Z",
     "iopub.status.idle": "2022-11-17T14:23:24.802701Z",
     "shell.execute_reply": "2022-11-17T14:23:24.801556Z",
     "shell.execute_reply.started": "2022-11-17T14:23:24.795344Z"
    }
   },
   "outputs": [],
   "source": [
    "#copying the category column, I like to have a back-up and will tinker with the category_adj column\n",
    "oscars['category_adj']=oscars['category']"
   ]
  },
  {
   "cell_type": "code",
   "execution_count": 12,
   "id": "b7e0f0ea",
   "metadata": {
    "execution": {
     "iopub.execute_input": "2022-11-17T14:23:24.836790Z",
     "iopub.status.busy": "2022-11-17T14:23:24.834165Z",
     "iopub.status.idle": "2022-11-17T14:23:24.844493Z",
     "shell.execute_reply": "2022-11-17T14:23:24.843220Z",
     "shell.execute_reply.started": "2022-11-17T14:23:24.836743Z"
    }
   },
   "outputs": [],
   "source": [
    "def unique_categories(name):\n",
    "    '''The function takes and argument \"name\", searches in the categories for the keyword(\"name\") and returns a list unique categories that contain the keyword'''\n",
    "    words_found=[]\n",
    "    for category in oscars['category']:\n",
    "        words_found.append(category.find(name))\n",
    "\n",
    "    #indicies of all titles with the key word \"name\"\n",
    "    idices_with_var=[i for (i,m) in list(enumerate(words_found)) if m!=-1]\n",
    "\n",
    "    #extracting catoegy names including the key word \"name\"\n",
    "    names_only = [m for (i,m) in list(enumerate(oscars['category'])) if (i in idices_with_var)]\n",
    "\n",
    "    #returning unique values\n",
    "    return list(set(names_only))"
   ]
  },
  {
   "cell_type": "code",
   "execution_count": 13,
   "id": "841903e1",
   "metadata": {
    "execution": {
     "iopub.execute_input": "2022-11-17T14:23:24.849007Z",
     "iopub.status.busy": "2022-11-17T14:23:24.847794Z",
     "iopub.status.idle": "2022-11-17T14:23:24.858441Z",
     "shell.execute_reply": "2022-11-17T14:23:24.857300Z",
     "shell.execute_reply.started": "2022-11-17T14:23:24.848959Z"
    }
   },
   "outputs": [],
   "source": [
    "def replacing_categories(list_to_replace, new_category):\n",
    "    '''the function replaces a list of strings that should be repaced with a new string in the category_adj column,\n",
    "     and returns a message with the number of replacements that have been done'''\n",
    "    for old_category in list_to_replace:\n",
    "        oscars['category_adj'].replace(to_replace=old_category, value=new_category, inplace=True)\n",
    "    frequency_of_new_category=len(oscars[oscars['category_adj']==new_category])\n",
    "    message = f'{frequency_of_new_category} category have been replaced in category_adj column with \"{new_category}\"'\n",
    "    return message"
   ]
  },
  {
   "cell_type": "markdown",
   "id": "19db4ddb",
   "metadata": {},
   "source": [
    "## Screenplay"
   ]
  },
  {
   "cell_type": "code",
   "execution_count": 14,
   "id": "e13b6744",
   "metadata": {
    "execution": {
     "iopub.execute_input": "2022-11-17T14:23:24.871498Z",
     "iopub.status.busy": "2022-11-17T14:23:24.870565Z",
     "iopub.status.idle": "2022-11-17T14:23:25.020788Z",
     "shell.execute_reply": "2022-11-17T14:23:25.019448Z",
     "shell.execute_reply.started": "2022-11-17T14:23:24.871446Z"
    }
   },
   "outputs": [
    {
     "data": {
      "text/plain": [
       "['writing (story and screenplay--based on material not previously published or produced)',\n",
       " 'writing (screenplay--original)',\n",
       " 'writing (original screenplay)',\n",
       " 'writing (story and screenplay--based on factual material or material not previously published or produced)',\n",
       " 'writing (screenplay based on material from another medium)',\n",
       " 'writing (screenplay)',\n",
       " 'writing (story and screenplay--written directly for the screen)',\n",
       " 'writing (screenplay--adapted)',\n",
       " 'writing (screenplay written directly for the screen--based on factual material or on story material not previously published or produced)',\n",
       " 'writing (screenplay written directly for the screen)',\n",
       " 'writing (screenplay--based on material from another medium)',\n",
       " 'writing (adapted screenplay)',\n",
       " 'writing (screenplay adapted from other material)',\n",
       " 'writing (screenplay based on material previously produced or published)',\n",
       " 'writing (story and screenplay)']"
      ]
     },
     "metadata": {},
     "output_type": "display_data"
    }
   ],
   "source": [
    "display(unique_categories('screenplay'))"
   ]
  },
  {
   "cell_type": "markdown",
   "id": "b798a649",
   "metadata": {},
   "source": [
    "Accordig to the definition I have found for the screenplay awards, it should be original screenplay, so let us cluster together categories that look like original screeenplay into one.\n",
    "Also, for me, I really enjoy watching movies with orignal plot:)"
   ]
  },
  {
   "cell_type": "code",
   "execution_count": 15,
   "id": "50015927",
   "metadata": {
    "execution": {
     "iopub.execute_input": "2022-11-17T14:23:25.022973Z",
     "iopub.status.busy": "2022-11-17T14:23:25.022631Z",
     "iopub.status.idle": "2022-11-17T14:23:25.040700Z",
     "shell.execute_reply": "2022-11-17T14:23:25.039323Z",
     "shell.execute_reply.started": "2022-11-17T14:23:25.022942Z"
    }
   },
   "outputs": [
    {
     "name": "stdout",
     "output_type": "stream",
     "text": [
      "499 category have been replaced in category_adj column with \"original_screenplay\"\n"
     ]
    }
   ],
   "source": [
    "#unifying screenplay\n",
    "#manually pick them up from the set above\n",
    "names_to_replace=['writing (original screenplay)','writing (screenplay written directly for the screen)',\n",
    " 'writing (screenplay written directly for the screen--based on factual material or on story material not previously published or produced)',\n",
    " 'writing (screenplay)', 'writing (screenplay--original)','writing (story and screenplay)','writing (story and screenplay--based on factual material or material not previously published or produced)','writing (story and screenplay--based on material not previously published or produced)',\n",
    " 'writing (story and screenplay--written directly for the screen)']\n",
    "\n",
    "print(replacing_categories(names_to_replace, 'original_screenplay'))"
   ]
  },
  {
   "cell_type": "markdown",
   "id": "9a06fdb2",
   "metadata": {},
   "source": [
    "Now, I will replicate the method for the other categories. "
   ]
  },
  {
   "cell_type": "markdown",
   "id": "53397a32",
   "metadata": {},
   "source": [
    "## Best Picture"
   ]
  },
  {
   "cell_type": "code",
   "execution_count": 16,
   "id": "e60c8be6",
   "metadata": {
    "execution": {
     "iopub.execute_input": "2022-11-17T14:23:25.042278Z",
     "iopub.status.busy": "2022-11-17T14:23:25.041837Z",
     "iopub.status.idle": "2022-11-17T14:23:25.193917Z",
     "shell.execute_reply": "2022-11-17T14:23:25.192503Z",
     "shell.execute_reply.started": "2022-11-17T14:23:25.042206Z"
    }
   },
   "outputs": [
    {
     "data": {
      "text/plain": [
       "['writing (original motion picture story)',\n",
       " 'outstanding motion picture',\n",
       " 'music (music score of a dramatic picture)',\n",
       " 'music (scoring of a musical picture)',\n",
       " 'music (music score of a dramatic or comedy picture)',\n",
       " 'directing (comedy picture)',\n",
       " 'music (original score--for a motion picture [not a musical])',\n",
       " 'outstanding picture',\n",
       " 'music (score of a musical picture--original or adaptation)',\n",
       " 'writing (motion picture story)',\n",
       " 'directing (dramatic picture)',\n",
       " 'best motion picture',\n",
       " 'music (song--original for the picture)',\n",
       " 'best picture',\n",
       " 'unique and artistic picture']"
      ]
     },
     "metadata": {},
     "output_type": "display_data"
    }
   ],
   "source": [
    "display(unique_categories('picture'))"
   ]
  },
  {
   "cell_type": "code",
   "execution_count": 17,
   "id": "2834d1a6",
   "metadata": {
    "execution": {
     "iopub.execute_input": "2022-11-17T14:23:25.196602Z",
     "iopub.status.busy": "2022-11-17T14:23:25.196243Z",
     "iopub.status.idle": "2022-11-17T14:23:25.208982Z",
     "shell.execute_reply": "2022-11-17T14:23:25.207706Z",
     "shell.execute_reply.started": "2022-11-17T14:23:25.196570Z"
    }
   },
   "outputs": [
    {
     "name": "stdout",
     "output_type": "stream",
     "text": [
      "423 category have been replaced in category_adj column with \"best_picture\"\n"
     ]
    }
   ],
   "source": [
    "names_to_replace=['best motion picture', 'best picture' ]\n",
    "\n",
    "print(replacing_categories(names_to_replace, 'best_picture'))"
   ]
  },
  {
   "cell_type": "markdown",
   "id": "8ef6bedb",
   "metadata": {},
   "source": [
    "## Actor"
   ]
  },
  {
   "cell_type": "code",
   "execution_count": 18,
   "id": "1c458a61",
   "metadata": {
    "execution": {
     "iopub.execute_input": "2022-11-17T14:23:25.212419Z",
     "iopub.status.busy": "2022-11-17T14:23:25.212042Z",
     "iopub.status.idle": "2022-11-17T14:23:25.360437Z",
     "shell.execute_reply": "2022-11-17T14:23:25.359243Z",
     "shell.execute_reply.started": "2022-11-17T14:23:25.212389Z"
    }
   },
   "outputs": [
    {
     "data": {
      "text/plain": [
       "['actor', 'actor in a leading role', 'actor in a supporting role']"
      ]
     },
     "metadata": {},
     "output_type": "display_data"
    }
   ],
   "source": [
    "display(unique_categories('actor'))"
   ]
  },
  {
   "cell_type": "markdown",
   "id": "cea33cb7",
   "metadata": {},
   "source": [
    "Yes, I agree, my chosing of the actors is rather arbitrary... How do I know that the 'actor' and 'actor in a leading role' fall into the same category? \n",
    "\n",
    "From the client perspective (me & my family) it does not really matter - leading actor / actor are likely to add more value to the viewer. Simly, because one spends more time with them.\n",
    "\n",
    "But sill, I could run a quick check in the end of the analysis to make sure that no movie got two 'the big five' awards for actor in the same year"
   ]
  },
  {
   "cell_type": "code",
   "execution_count": 19,
   "id": "642374e8",
   "metadata": {
    "execution": {
     "iopub.execute_input": "2022-11-17T14:23:25.362522Z",
     "iopub.status.busy": "2022-11-17T14:23:25.361851Z",
     "iopub.status.idle": "2022-11-17T14:23:25.372639Z",
     "shell.execute_reply": "2022-11-17T14:23:25.371224Z",
     "shell.execute_reply.started": "2022-11-17T14:23:25.362486Z"
    }
   },
   "outputs": [
    {
     "name": "stdout",
     "output_type": "stream",
     "text": [
      "452 category have been replaced in category_adj column with \"best_actor\"\n"
     ]
    }
   ],
   "source": [
    "names_to_replace=['actor', 'actor in a leading role']\n",
    "\n",
    "print(replacing_categories(names_to_replace, 'best_actor'))"
   ]
  },
  {
   "cell_type": "markdown",
   "id": "329570a8",
   "metadata": {},
   "source": [
    "## Actress"
   ]
  },
  {
   "cell_type": "code",
   "execution_count": 20,
   "id": "a5eb8b38",
   "metadata": {
    "execution": {
     "iopub.execute_input": "2022-11-17T14:23:25.375036Z",
     "iopub.status.busy": "2022-11-17T14:23:25.374548Z",
     "iopub.status.idle": "2022-11-17T14:23:25.525173Z",
     "shell.execute_reply": "2022-11-17T14:23:25.524010Z",
     "shell.execute_reply.started": "2022-11-17T14:23:25.374998Z"
    }
   },
   "outputs": [
    {
     "data": {
      "text/plain": [
       "['actress', 'actress in a supporting role', 'actress in a leading role']"
      ]
     },
     "metadata": {},
     "output_type": "display_data"
    }
   ],
   "source": [
    "display(unique_categories('actress'))"
   ]
  },
  {
   "cell_type": "code",
   "execution_count": 21,
   "id": "84c084d1",
   "metadata": {
    "execution": {
     "iopub.execute_input": "2022-11-17T14:23:25.527342Z",
     "iopub.status.busy": "2022-11-17T14:23:25.526449Z",
     "iopub.status.idle": "2022-11-17T14:23:25.536861Z",
     "shell.execute_reply": "2022-11-17T14:23:25.535410Z",
     "shell.execute_reply.started": "2022-11-17T14:23:25.527307Z"
    }
   },
   "outputs": [
    {
     "name": "stdout",
     "output_type": "stream",
     "text": [
      "456 category have been replaced in category_adj column with \"best_actress\"\n"
     ]
    }
   ],
   "source": [
    "names_to_replace=['actress', 'actress in a leading role']\n",
    "\n",
    "print(replacing_categories(names_to_replace, 'best_actress'))"
   ]
  },
  {
   "cell_type": "markdown",
   "id": "bb79f41f",
   "metadata": {},
   "source": [
    "## Director"
   ]
  },
  {
   "cell_type": "code",
   "execution_count": 22,
   "id": "78c56265",
   "metadata": {
    "execution": {
     "iopub.execute_input": "2022-11-17T14:23:25.538901Z",
     "iopub.status.busy": "2022-11-17T14:23:25.538488Z",
     "iopub.status.idle": "2022-11-17T14:23:25.739451Z",
     "shell.execute_reply": "2022-11-17T14:23:25.738241Z",
     "shell.execute_reply.started": "2022-11-17T14:23:25.538869Z"
    }
   },
   "outputs": [
    {
     "data": {
      "text/plain": [
       "['art direction',\n",
       " 'art direction (color)',\n",
       " 'assistant director',\n",
       " 'directing (comedy picture)',\n",
       " 'dance direction',\n",
       " 'writing (story and screenplay--written directly for the screen)',\n",
       " 'directing',\n",
       " 'writing (screenplay written directly for the screen)',\n",
       " 'writing (screenplay written directly for the screen--based on factual material or on story material not previously published or produced)',\n",
       " 'directing (dramatic picture)',\n",
       " 'art direction (black-and-white)']"
      ]
     },
     "metadata": {},
     "output_type": "display_data"
    }
   ],
   "source": [
    "display(unique_categories('direct'))"
   ]
  },
  {
   "cell_type": "code",
   "execution_count": 23,
   "id": "02b90f52",
   "metadata": {
    "execution": {
     "iopub.execute_input": "2022-11-17T14:23:25.744747Z",
     "iopub.status.busy": "2022-11-17T14:23:25.744372Z",
     "iopub.status.idle": "2022-11-17T14:23:25.755586Z",
     "shell.execute_reply": "2022-11-17T14:23:25.754076Z",
     "shell.execute_reply.started": "2022-11-17T14:23:25.744716Z"
    }
   },
   "outputs": [
    {
     "name": "stdout",
     "output_type": "stream",
     "text": [
      "454 category have been replaced in category_adj column with \"best_director\"\n"
     ]
    }
   ],
   "source": [
    "names_to_replace=['directing',  'directing (comedy picture)',  'directing (dramatic picture)',]\n",
    "\n",
    "print(replacing_categories(names_to_replace, 'best_director'))"
   ]
  },
  {
   "cell_type": "markdown",
   "id": "9abbd32f",
   "metadata": {},
   "source": [
    "## Category  adjusted check"
   ]
  },
  {
   "cell_type": "code",
   "execution_count": 24,
   "id": "1a331d58",
   "metadata": {
    "execution": {
     "iopub.execute_input": "2022-11-17T14:23:25.758054Z",
     "iopub.status.busy": "2022-11-17T14:23:25.757597Z",
     "iopub.status.idle": "2022-11-17T14:23:25.769877Z",
     "shell.execute_reply": "2022-11-17T14:23:25.768990Z",
     "shell.execute_reply.started": "2022-11-17T14:23:25.758011Z"
    }
   },
   "outputs": [],
   "source": [
    "# Let us see what the categories look like\n",
    "\n",
    "the_big_five=['original_screenplay','best_picture', 'best_actress','best_actor', 'best_director']"
   ]
  },
  {
   "cell_type": "code",
   "execution_count": 25,
   "id": "1ff9bdc1",
   "metadata": {
    "execution": {
     "iopub.execute_input": "2022-11-17T14:23:25.772019Z",
     "iopub.status.busy": "2022-11-17T14:23:25.771585Z",
     "iopub.status.idle": "2022-11-17T14:23:25.784589Z",
     "shell.execute_reply": "2022-11-17T14:23:25.783436Z",
     "shell.execute_reply.started": "2022-11-17T14:23:25.771977Z"
    }
   },
   "outputs": [],
   "source": [
    "oscars['the_big_five']=oscars['category_adj'].isin(the_big_five)"
   ]
  },
  {
   "cell_type": "code",
   "execution_count": 26,
   "id": "633c44cf",
   "metadata": {
    "execution": {
     "iopub.execute_input": "2022-11-17T14:23:25.786287Z",
     "iopub.status.busy": "2022-11-17T14:23:25.785892Z",
     "iopub.status.idle": "2022-11-17T14:23:25.813172Z",
     "shell.execute_reply": "2022-11-17T14:23:25.811876Z",
     "shell.execute_reply.started": "2022-11-17T14:23:25.786248Z"
    }
   },
   "outputs": [
    {
     "data": {
      "text/html": [
       "<div>\n",
       "<style scoped>\n",
       "    .dataframe tbody tr th:only-of-type {\n",
       "        vertical-align: middle;\n",
       "    }\n",
       "\n",
       "    .dataframe tbody tr th {\n",
       "        vertical-align: top;\n",
       "    }\n",
       "\n",
       "    .dataframe thead th {\n",
       "        text-align: right;\n",
       "    }\n",
       "</style>\n",
       "<table border=\"1\" class=\"dataframe\">\n",
       "  <thead>\n",
       "    <tr style=\"text-align: right;\">\n",
       "      <th></th>\n",
       "      <th>category_adj</th>\n",
       "      <th>film</th>\n",
       "      <th>winner</th>\n",
       "    </tr>\n",
       "  </thead>\n",
       "  <tbody>\n",
       "    <tr>\n",
       "      <th>0</th>\n",
       "      <td>original_screenplay</td>\n",
       "      <td>499</td>\n",
       "      <td>0.200401</td>\n",
       "    </tr>\n",
       "    <tr>\n",
       "      <th>1</th>\n",
       "      <td>best_actress</td>\n",
       "      <td>456</td>\n",
       "      <td>0.203947</td>\n",
       "    </tr>\n",
       "    <tr>\n",
       "      <th>2</th>\n",
       "      <td>best_director</td>\n",
       "      <td>454</td>\n",
       "      <td>0.204846</td>\n",
       "    </tr>\n",
       "    <tr>\n",
       "      <th>3</th>\n",
       "      <td>best_actor</td>\n",
       "      <td>452</td>\n",
       "      <td>0.205752</td>\n",
       "    </tr>\n",
       "    <tr>\n",
       "      <th>4</th>\n",
       "      <td>film editing</td>\n",
       "      <td>430</td>\n",
       "      <td>0.200000</td>\n",
       "    </tr>\n",
       "    <tr>\n",
       "      <th>5</th>\n",
       "      <td>best_picture</td>\n",
       "      <td>423</td>\n",
       "      <td>0.179669</td>\n",
       "    </tr>\n",
       "    <tr>\n",
       "      <th>6</th>\n",
       "      <td>actor in a supporting role</td>\n",
       "      <td>420</td>\n",
       "      <td>0.200000</td>\n",
       "    </tr>\n",
       "    <tr>\n",
       "      <th>7</th>\n",
       "      <td>actress in a supporting role</td>\n",
       "      <td>420</td>\n",
       "      <td>0.200000</td>\n",
       "    </tr>\n",
       "    <tr>\n",
       "      <th>8</th>\n",
       "      <td>documentary (short subject)</td>\n",
       "      <td>368</td>\n",
       "      <td>0.211957</td>\n",
       "    </tr>\n",
       "    <tr>\n",
       "      <th>9</th>\n",
       "      <td>documentary (feature)</td>\n",
       "      <td>335</td>\n",
       "      <td>0.229851</td>\n",
       "    </tr>\n",
       "  </tbody>\n",
       "</table>\n",
       "</div>"
      ],
      "text/plain": [
       "                   category_adj  film    winner\n",
       "0           original_screenplay   499  0.200401\n",
       "1                  best_actress   456  0.203947\n",
       "2                 best_director   454  0.204846\n",
       "3                    best_actor   452  0.205752\n",
       "4                  film editing   430  0.200000\n",
       "5                  best_picture   423  0.179669\n",
       "6    actor in a supporting role   420  0.200000\n",
       "7  actress in a supporting role   420  0.200000\n",
       "8   documentary (short subject)   368  0.211957\n",
       "9         documentary (feature)   335  0.229851"
      ]
     },
     "execution_count": 26,
     "metadata": {},
     "output_type": "execute_result"
    }
   ],
   "source": [
    "top_10_cat_dist=oscars.groupby(by='category_adj', as_index=False)[['film', 'winner']].agg({'film':'count','winner':'mean'}).sort_values(by='film', ascending=False, ignore_index=True ).head(10)\n",
    "top_10_cat_dist\n",
    "\n",
    "# In general, we have around 450 movies in each of the big five category and winning rate ~20%\n",
    "# Now, I could spot that screenplay have more films than other categories and best_picture less with lower 'winner ratio'\n",
    "# This is likely that I have added too many categories into the screenplay and too few into best_pictures (unless they were taken away in the beginning of the process)\n",
    "# Since it is analysis is just for 'fun', I will leave it as it is for now"
   ]
  },
  {
   "cell_type": "markdown",
   "id": "01d63470",
   "metadata": {},
   "source": [
    "# Creating award categories"
   ]
  },
  {
   "cell_type": "code",
   "execution_count": 27,
   "id": "f44d55c4",
   "metadata": {
    "execution": {
     "iopub.execute_input": "2022-11-17T14:23:25.815459Z",
     "iopub.status.busy": "2022-11-17T14:23:25.814963Z",
     "iopub.status.idle": "2022-11-17T14:23:25.823020Z",
     "shell.execute_reply": "2022-11-17T14:23:25.821588Z",
     "shell.execute_reply.started": "2022-11-17T14:23:25.815413Z"
    }
   },
   "outputs": [],
   "source": [
    "# Fist, lets create dummy variables for the best_5 and winners. \n",
    "# Somehow I see numbers better than True / False\n",
    "oscars['winner']=oscars['winner'].astype('int')\n",
    "oscars['the_big_five']=oscars['the_big_five'].astype('int')"
   ]
  },
  {
   "cell_type": "code",
   "execution_count": 28,
   "id": "39bd0600",
   "metadata": {
    "execution": {
     "iopub.execute_input": "2022-11-17T14:23:25.825610Z",
     "iopub.status.busy": "2022-11-17T14:23:25.825110Z",
     "iopub.status.idle": "2022-11-17T14:23:25.841736Z",
     "shell.execute_reply": "2022-11-17T14:23:25.840503Z",
     "shell.execute_reply.started": "2022-11-17T14:23:25.825566Z"
    }
   },
   "outputs": [],
   "source": [
    "# Let us create four new columns, as below:\n",
    "#1 is True, 0 is False\n",
    "\n",
    "# a column for those which won one of the big five awards\n",
    "oscars['big_five_winner']=oscars['winner']*oscars['the_big_five']\n",
    "\n",
    "# a column for those which were nominated to one of the big five awards, but did not acheive it\n",
    "oscars['big_five_nominated_only']=oscars['the_big_five']-oscars['big_five_winner']\n",
    "\n",
    "# a column for those which won an award other than the big five\n",
    "oscars['other_winner']=oscars['winner']-oscars['big_five_winner']\n",
    "\n",
    "# a coulumn for those which were nominated to an award other than the big five, but did not acheive it\n",
    "#This one a bit more tricky. First I change all 0's with 2, and then subtract all winners and films nominated to the big five categories\n",
    "#then divide by 2 to get dummies\n",
    "oscars['other_nominate_only']=oscars['winner'].replace(to_replace=0,value=2)\n",
    "oscars['other_nominate_only']=(oscars['other_nominate_only']-\n",
    "                               oscars['big_five_winner']-\n",
    "                               oscars['other_winner']-\n",
    "                               oscars['big_five_nominated_only']*2\n",
    "                              )/2\n"
   ]
  },
  {
   "cell_type": "code",
   "execution_count": 29,
   "id": "834a3cac",
   "metadata": {
    "execution": {
     "iopub.execute_input": "2022-11-17T14:23:25.843470Z",
     "iopub.status.busy": "2022-11-17T14:23:25.843130Z",
     "iopub.status.idle": "2022-11-17T14:23:25.862912Z",
     "shell.execute_reply": "2022-11-17T14:23:25.861656Z",
     "shell.execute_reply.started": "2022-11-17T14:23:25.843438Z"
    }
   },
   "outputs": [
    {
     "data": {
      "text/plain": [
       "other_nominate_only        6183.0\n",
       "other_winner               1624.0\n",
       "big_five_nominated_only    1829.0\n",
       "big_five_winner             455.0\n",
       "winner                     2079.0\n",
       "the_big_five               2284.0\n",
       "dtype: float64"
      ]
     },
     "metadata": {},
     "output_type": "display_data"
    },
    {
     "name": "stdout",
     "output_type": "stream",
     "text": [
      "------\n",
      "\n",
      "10091.0\n",
      "10091\n"
     ]
    }
   ],
   "source": [
    "cols= ['other_nominate_only', \n",
    "       'other_winner',\n",
    "       'big_five_nominated_only',\n",
    "       'big_five_winner',\n",
    "       'winner', \n",
    "       'the_big_five']\n",
    "\n",
    "display(oscars[cols].sum())\n",
    "\n",
    "print('------\\n')\n",
    "\n",
    "#Looking at the data, it seems like everything adds upp\n",
    "print(oscars[['other_nominate_only','other_winner','big_five_nominated_only','big_five_winner']].sum().sum())\n",
    "print(oscars.shape[0])"
   ]
  },
  {
   "cell_type": "markdown",
   "id": "2bc90f0a",
   "metadata": {},
   "source": [
    "# Indexing"
   ]
  },
  {
   "cell_type": "markdown",
   "id": "76c924ea",
   "metadata": {
    "execution": {
     "iopub.execute_input": "2022-11-17T14:10:34.533172Z",
     "iopub.status.busy": "2022-11-17T14:10:34.532201Z",
     "iopub.status.idle": "2022-11-17T14:10:34.540473Z",
     "shell.execute_reply": "2022-11-17T14:10:34.539308Z",
     "shell.execute_reply.started": "2022-11-17T14:10:34.533118Z"
    }
   },
   "source": [
    "I would like to create some kind of a simple score to take into account all nominations and awards.\n",
    "So, \n",
    "- winning a big five award: 4 points\n",
    "- winning another award: 3 points\n",
    "- nomination to a big five award: 2 points\n",
    "- nomination to any other award: 1 points\n",
    "\n",
    "This way may be better to see which movies have been mosty appriciated by critics\n",
    "\n",
    "Also, good to have a total number of nominations and awards, to compare with other sources:)"
   ]
  },
  {
   "cell_type": "code",
   "execution_count": 30,
   "id": "4e2bfd39",
   "metadata": {
    "execution": {
     "iopub.execute_input": "2022-11-17T14:23:25.867333Z",
     "iopub.status.busy": "2022-11-17T14:23:25.866936Z",
     "iopub.status.idle": "2022-11-17T14:23:25.898867Z",
     "shell.execute_reply": "2022-11-17T14:23:25.897674Z",
     "shell.execute_reply.started": "2022-11-17T14:23:25.867299Z"
    }
   },
   "outputs": [
    {
     "data": {
      "text/plain": [
       "(4833, 6)"
      ]
     },
     "execution_count": 30,
     "metadata": {},
     "output_type": "execute_result"
    }
   ],
   "source": [
    "#First, I need to group observations by movies, for now, I also take away actors \n",
    "summary=oscars.groupby(by='film', as_index=False)[\n",
    "    ['year_ceremony','other_nominate_only','other_winner','big_five_nominated_only','big_five_winner']].agg({\n",
    "        'year_ceremony':'mean',\n",
    "        'big_five_winner':'sum',\n",
    "        'other_winner':'sum',\n",
    "        'big_five_nominated_only':'sum',\n",
    "        'other_nominate_only':'sum'}).sort_values(\n",
    "    by=['big_five_winner',\n",
    "        'other_winner',\n",
    "        'big_five_nominated_only',\n",
    "        'other_nominate_only'], \n",
    "    ascending=False)\n",
    "\n",
    "#cleanign up the format of certain valuables\n",
    "summary['year_ceremony']=summary['year_ceremony'].astype('int')\n",
    "summary['other_nominate_only']=summary['other_nominate_only'].astype('int')\n",
    "summary.shape"
   ]
  },
  {
   "cell_type": "code",
   "execution_count": 31,
   "id": "07ccc48f",
   "metadata": {
    "execution": {
     "iopub.execute_input": "2022-11-17T14:23:25.900767Z",
     "iopub.status.busy": "2022-11-17T14:23:25.900410Z",
     "iopub.status.idle": "2022-11-17T14:23:25.915780Z",
     "shell.execute_reply": "2022-11-17T14:23:25.914622Z",
     "shell.execute_reply.started": "2022-11-17T14:23:25.900736Z"
    }
   },
   "outputs": [
    {
     "name": "stdout",
     "output_type": "stream",
     "text": [
      "<class 'pandas.core.frame.DataFrame'>\n",
      "Int64Index: 4833 entries, 2450 to 4832\n",
      "Data columns (total 6 columns):\n",
      " #   Column                   Non-Null Count  Dtype \n",
      "---  ------                   --------------  ----- \n",
      " 0   film                     4833 non-null   object\n",
      " 1   year_ceremony            4833 non-null   int32 \n",
      " 2   big_five_winner          4833 non-null   int32 \n",
      " 3   other_winner             4833 non-null   int32 \n",
      " 4   big_five_nominated_only  4833 non-null   int32 \n",
      " 5   other_nominate_only      4833 non-null   int32 \n",
      "dtypes: int32(5), object(1)\n",
      "memory usage: 169.9+ KB\n"
     ]
    }
   ],
   "source": [
    "#Looks like we have over 4.8k unique movies - I'm sure I'll find something to watch:)\n",
    "summary.info()"
   ]
  },
  {
   "cell_type": "markdown",
   "id": "c3d3080d",
   "metadata": {},
   "source": []
  },
  {
   "cell_type": "code",
   "execution_count": 32,
   "id": "a9afe845",
   "metadata": {
    "execution": {
     "iopub.execute_input": "2022-11-17T14:23:25.917567Z",
     "iopub.status.busy": "2022-11-17T14:23:25.917117Z",
     "iopub.status.idle": "2022-11-17T14:23:25.932236Z",
     "shell.execute_reply": "2022-11-17T14:23:25.931261Z",
     "shell.execute_reply.started": "2022-11-17T14:23:25.917534Z"
    }
   },
   "outputs": [],
   "source": [
    "#creating a column for total number of awards and nomination (to compare to the database in wikipedia or other source)\n",
    "summary['total_nominations_awards']=(\n",
    "    summary['big_five_winner']+ \n",
    "    summary['other_winner']+\n",
    "    summary['big_five_nominated_only']+  \n",
    "    summary['other_nominate_only'])\n",
    "\n",
    "#indexing as described in the intro to this section\n",
    "summary['score']=(summary['big_five_winner']*4+ \n",
    "                  summary['other_winner']*3+\n",
    "                  summary['big_five_nominated_only']*2+\n",
    "                  summary['other_nominate_only']*1)\n",
    "\n",
    "#sorting the dataframe\n",
    "summary=summary.sort_values(\n",
    "    by=['score',\n",
    "        'big_five_winner',\n",
    "        'other_winner',\n",
    "        'big_five_nominated_only',\n",
    "        'other_nominate_only'], \n",
    "    ascending=False).reset_index(drop=True)"
   ]
  },
  {
   "cell_type": "code",
   "execution_count": 33,
   "id": "b9332339",
   "metadata": {
    "execution": {
     "iopub.execute_input": "2022-11-17T14:23:25.934209Z",
     "iopub.status.busy": "2022-11-17T14:23:25.933496Z",
     "iopub.status.idle": "2022-11-17T14:23:25.948014Z",
     "shell.execute_reply": "2022-11-17T14:23:25.946567Z",
     "shell.execute_reply.started": "2022-11-17T14:23:25.934150Z"
    }
   },
   "outputs": [
    {
     "data": {
      "text/html": [
       "<div>\n",
       "<style scoped>\n",
       "    .dataframe tbody tr th:only-of-type {\n",
       "        vertical-align: middle;\n",
       "    }\n",
       "\n",
       "    .dataframe tbody tr th {\n",
       "        vertical-align: top;\n",
       "    }\n",
       "\n",
       "    .dataframe thead th {\n",
       "        text-align: right;\n",
       "    }\n",
       "</style>\n",
       "<table border=\"1\" class=\"dataframe\">\n",
       "  <thead>\n",
       "    <tr style=\"text-align: right;\">\n",
       "      <th></th>\n",
       "      <th>film</th>\n",
       "      <th>year_ceremony</th>\n",
       "      <th>big_five_winner</th>\n",
       "      <th>other_winner</th>\n",
       "      <th>big_five_nominated_only</th>\n",
       "      <th>other_nominate_only</th>\n",
       "      <th>total_nominations_awards</th>\n",
       "      <th>score</th>\n",
       "    </tr>\n",
       "  </thead>\n",
       "  <tbody>\n",
       "    <tr>\n",
       "      <th>0</th>\n",
       "      <td>Titanic</td>\n",
       "      <td>1992</td>\n",
       "      <td>3</td>\n",
       "      <td>9</td>\n",
       "      <td>1</td>\n",
       "      <td>3</td>\n",
       "      <td>16</td>\n",
       "      <td>44</td>\n",
       "    </tr>\n",
       "    <tr>\n",
       "      <th>1</th>\n",
       "      <td>A Star Is Born</td>\n",
       "      <td>1974</td>\n",
       "      <td>0</td>\n",
       "      <td>3</td>\n",
       "      <td>9</td>\n",
       "      <td>13</td>\n",
       "      <td>25</td>\n",
       "      <td>40</td>\n",
       "    </tr>\n",
       "    <tr>\n",
       "      <th>2</th>\n",
       "      <td>Ben-Hur</td>\n",
       "      <td>1960</td>\n",
       "      <td>3</td>\n",
       "      <td>8</td>\n",
       "      <td>0</td>\n",
       "      <td>1</td>\n",
       "      <td>12</td>\n",
       "      <td>37</td>\n",
       "    </tr>\n",
       "    <tr>\n",
       "      <th>3</th>\n",
       "      <td>From Here to Eternity</td>\n",
       "      <td>1954</td>\n",
       "      <td>3</td>\n",
       "      <td>5</td>\n",
       "      <td>3</td>\n",
       "      <td>2</td>\n",
       "      <td>13</td>\n",
       "      <td>35</td>\n",
       "    </tr>\n",
       "    <tr>\n",
       "      <th>4</th>\n",
       "      <td>The Lord of the Rings: The Return of the King</td>\n",
       "      <td>2004</td>\n",
       "      <td>2</td>\n",
       "      <td>9</td>\n",
       "      <td>0</td>\n",
       "      <td>0</td>\n",
       "      <td>11</td>\n",
       "      <td>35</td>\n",
       "    </tr>\n",
       "  </tbody>\n",
       "</table>\n",
       "</div>"
      ],
      "text/plain": [
       "                                            film  year_ceremony  \\\n",
       "0                                        Titanic           1992   \n",
       "1                                 A Star Is Born           1974   \n",
       "2                                        Ben-Hur           1960   \n",
       "3                          From Here to Eternity           1954   \n",
       "4  The Lord of the Rings: The Return of the King           2004   \n",
       "\n",
       "   big_five_winner  other_winner  big_five_nominated_only  \\\n",
       "0                3             9                        1   \n",
       "1                0             3                        9   \n",
       "2                3             8                        0   \n",
       "3                3             5                        3   \n",
       "4                2             9                        0   \n",
       "\n",
       "   other_nominate_only  total_nominations_awards  score  \n",
       "0                    3                        16     44  \n",
       "1                   13                        25     40  \n",
       "2                    1                        12     37  \n",
       "3                    2                        13     35  \n",
       "4                    0                        11     35  "
      ]
     },
     "execution_count": 33,
     "metadata": {},
     "output_type": "execute_result"
    }
   ],
   "source": [
    "summary.head()"
   ]
  },
  {
   "cell_type": "markdown",
   "id": "893a6414",
   "metadata": {},
   "source": [
    "# The final list"
   ]
  },
  {
   "cell_type": "markdown",
   "id": "b11f1ab1",
   "metadata": {},
   "source": [
    "Since, we are not likely to watch all 4.8k movies. I will select the top ones with score above 30.\n",
    "There are 15 such movies, distributed across all years."
   ]
  },
  {
   "cell_type": "code",
   "execution_count": 34,
   "id": "59318f4f",
   "metadata": {
    "execution": {
     "iopub.execute_input": "2022-11-17T14:23:25.949833Z",
     "iopub.status.busy": "2022-11-17T14:23:25.949477Z",
     "iopub.status.idle": "2022-11-17T14:23:25.962255Z",
     "shell.execute_reply": "2022-11-17T14:23:25.960730Z",
     "shell.execute_reply.started": "2022-11-17T14:23:25.949804Z"
    }
   },
   "outputs": [
    {
     "data": {
      "text/plain": [
       "15"
      ]
     },
     "execution_count": 34,
     "metadata": {},
     "output_type": "execute_result"
    }
   ],
   "source": [
    "len(summary[summary['score']>=30])"
   ]
  },
  {
   "cell_type": "code",
   "execution_count": 35,
   "id": "d888cb87",
   "metadata": {
    "execution": {
     "iopub.execute_input": "2022-11-17T14:23:25.964665Z",
     "iopub.status.busy": "2022-11-17T14:23:25.964094Z",
     "iopub.status.idle": "2022-11-17T14:23:25.985101Z",
     "shell.execute_reply": "2022-11-17T14:23:25.984032Z",
     "shell.execute_reply.started": "2022-11-17T14:23:25.964615Z"
    }
   },
   "outputs": [
    {
     "data": {
      "text/html": [
       "<div>\n",
       "<style scoped>\n",
       "    .dataframe tbody tr th:only-of-type {\n",
       "        vertical-align: middle;\n",
       "    }\n",
       "\n",
       "    .dataframe tbody tr th {\n",
       "        vertical-align: top;\n",
       "    }\n",
       "\n",
       "    .dataframe thead th {\n",
       "        text-align: right;\n",
       "    }\n",
       "</style>\n",
       "<table border=\"1\" class=\"dataframe\">\n",
       "  <thead>\n",
       "    <tr style=\"text-align: right;\">\n",
       "      <th></th>\n",
       "      <th>film</th>\n",
       "      <th>year_ceremony</th>\n",
       "      <th>big_five_winner</th>\n",
       "      <th>other_winner</th>\n",
       "      <th>big_five_nominated_only</th>\n",
       "      <th>other_nominate_only</th>\n",
       "      <th>total_nominations_awards</th>\n",
       "      <th>score</th>\n",
       "    </tr>\n",
       "  </thead>\n",
       "  <tbody>\n",
       "    <tr>\n",
       "      <th>0</th>\n",
       "      <td>Titanic</td>\n",
       "      <td>1992</td>\n",
       "      <td>3</td>\n",
       "      <td>9</td>\n",
       "      <td>1</td>\n",
       "      <td>3</td>\n",
       "      <td>16</td>\n",
       "      <td>44</td>\n",
       "    </tr>\n",
       "    <tr>\n",
       "      <th>1</th>\n",
       "      <td>A Star Is Born</td>\n",
       "      <td>1974</td>\n",
       "      <td>0</td>\n",
       "      <td>3</td>\n",
       "      <td>9</td>\n",
       "      <td>13</td>\n",
       "      <td>25</td>\n",
       "      <td>40</td>\n",
       "    </tr>\n",
       "    <tr>\n",
       "      <th>2</th>\n",
       "      <td>Ben-Hur</td>\n",
       "      <td>1960</td>\n",
       "      <td>3</td>\n",
       "      <td>8</td>\n",
       "      <td>0</td>\n",
       "      <td>1</td>\n",
       "      <td>12</td>\n",
       "      <td>37</td>\n",
       "    </tr>\n",
       "    <tr>\n",
       "      <th>3</th>\n",
       "      <td>From Here to Eternity</td>\n",
       "      <td>1954</td>\n",
       "      <td>3</td>\n",
       "      <td>5</td>\n",
       "      <td>3</td>\n",
       "      <td>2</td>\n",
       "      <td>13</td>\n",
       "      <td>35</td>\n",
       "    </tr>\n",
       "    <tr>\n",
       "      <th>4</th>\n",
       "      <td>The Lord of the Rings: The Return of the King</td>\n",
       "      <td>2004</td>\n",
       "      <td>2</td>\n",
       "      <td>9</td>\n",
       "      <td>0</td>\n",
       "      <td>0</td>\n",
       "      <td>11</td>\n",
       "      <td>35</td>\n",
       "    </tr>\n",
       "    <tr>\n",
       "      <th>5</th>\n",
       "      <td>The English Patient</td>\n",
       "      <td>1997</td>\n",
       "      <td>2</td>\n",
       "      <td>7</td>\n",
       "      <td>2</td>\n",
       "      <td>1</td>\n",
       "      <td>12</td>\n",
       "      <td>34</td>\n",
       "    </tr>\n",
       "    <tr>\n",
       "      <th>6</th>\n",
       "      <td>Gone with the Wind</td>\n",
       "      <td>1940</td>\n",
       "      <td>3</td>\n",
       "      <td>5</td>\n",
       "      <td>1</td>\n",
       "      <td>4</td>\n",
       "      <td>13</td>\n",
       "      <td>33</td>\n",
       "    </tr>\n",
       "    <tr>\n",
       "      <th>7</th>\n",
       "      <td>West Side Story</td>\n",
       "      <td>1962</td>\n",
       "      <td>2</td>\n",
       "      <td>8</td>\n",
       "      <td>0</td>\n",
       "      <td>1</td>\n",
       "      <td>11</td>\n",
       "      <td>33</td>\n",
       "    </tr>\n",
       "    <tr>\n",
       "      <th>8</th>\n",
       "      <td>On the Waterfront</td>\n",
       "      <td>1955</td>\n",
       "      <td>4</td>\n",
       "      <td>4</td>\n",
       "      <td>0</td>\n",
       "      <td>4</td>\n",
       "      <td>12</td>\n",
       "      <td>32</td>\n",
       "    </tr>\n",
       "    <tr>\n",
       "      <th>9</th>\n",
       "      <td>Gandhi</td>\n",
       "      <td>1983</td>\n",
       "      <td>4</td>\n",
       "      <td>4</td>\n",
       "      <td>0</td>\n",
       "      <td>3</td>\n",
       "      <td>11</td>\n",
       "      <td>31</td>\n",
       "    </tr>\n",
       "    <tr>\n",
       "      <th>10</th>\n",
       "      <td>Amadeus</td>\n",
       "      <td>1985</td>\n",
       "      <td>3</td>\n",
       "      <td>5</td>\n",
       "      <td>1</td>\n",
       "      <td>2</td>\n",
       "      <td>11</td>\n",
       "      <td>31</td>\n",
       "    </tr>\n",
       "    <tr>\n",
       "      <th>11</th>\n",
       "      <td>My Fair Lady</td>\n",
       "      <td>1965</td>\n",
       "      <td>3</td>\n",
       "      <td>5</td>\n",
       "      <td>0</td>\n",
       "      <td>4</td>\n",
       "      <td>12</td>\n",
       "      <td>31</td>\n",
       "    </tr>\n",
       "    <tr>\n",
       "      <th>12</th>\n",
       "      <td>Shakespeare in Love</td>\n",
       "      <td>1999</td>\n",
       "      <td>3</td>\n",
       "      <td>4</td>\n",
       "      <td>1</td>\n",
       "      <td>5</td>\n",
       "      <td>13</td>\n",
       "      <td>31</td>\n",
       "    </tr>\n",
       "    <tr>\n",
       "      <th>13</th>\n",
       "      <td>All about Eve</td>\n",
       "      <td>1951</td>\n",
       "      <td>3</td>\n",
       "      <td>3</td>\n",
       "      <td>2</td>\n",
       "      <td>6</td>\n",
       "      <td>14</td>\n",
       "      <td>31</td>\n",
       "    </tr>\n",
       "    <tr>\n",
       "      <th>14</th>\n",
       "      <td>La La Land</td>\n",
       "      <td>2017</td>\n",
       "      <td>2</td>\n",
       "      <td>4</td>\n",
       "      <td>3</td>\n",
       "      <td>5</td>\n",
       "      <td>14</td>\n",
       "      <td>31</td>\n",
       "    </tr>\n",
       "  </tbody>\n",
       "</table>\n",
       "</div>"
      ],
      "text/plain": [
       "                                             film  year_ceremony  \\\n",
       "0                                         Titanic           1992   \n",
       "1                                  A Star Is Born           1974   \n",
       "2                                         Ben-Hur           1960   \n",
       "3                           From Here to Eternity           1954   \n",
       "4   The Lord of the Rings: The Return of the King           2004   \n",
       "5                             The English Patient           1997   \n",
       "6                              Gone with the Wind           1940   \n",
       "7                                 West Side Story           1962   \n",
       "8                               On the Waterfront           1955   \n",
       "9                                          Gandhi           1983   \n",
       "10                                        Amadeus           1985   \n",
       "11                                   My Fair Lady           1965   \n",
       "12                            Shakespeare in Love           1999   \n",
       "13                                  All about Eve           1951   \n",
       "14                                     La La Land           2017   \n",
       "\n",
       "    big_five_winner  other_winner  big_five_nominated_only  \\\n",
       "0                 3             9                        1   \n",
       "1                 0             3                        9   \n",
       "2                 3             8                        0   \n",
       "3                 3             5                        3   \n",
       "4                 2             9                        0   \n",
       "5                 2             7                        2   \n",
       "6                 3             5                        1   \n",
       "7                 2             8                        0   \n",
       "8                 4             4                        0   \n",
       "9                 4             4                        0   \n",
       "10                3             5                        1   \n",
       "11                3             5                        0   \n",
       "12                3             4                        1   \n",
       "13                3             3                        2   \n",
       "14                2             4                        3   \n",
       "\n",
       "    other_nominate_only  total_nominations_awards  score  \n",
       "0                     3                        16     44  \n",
       "1                    13                        25     40  \n",
       "2                     1                        12     37  \n",
       "3                     2                        13     35  \n",
       "4                     0                        11     35  \n",
       "5                     1                        12     34  \n",
       "6                     4                        13     33  \n",
       "7                     1                        11     33  \n",
       "8                     4                        12     32  \n",
       "9                     3                        11     31  \n",
       "10                    2                        11     31  \n",
       "11                    4                        12     31  \n",
       "12                    5                        13     31  \n",
       "13                    6                        14     31  \n",
       "14                    5                        14     31  "
      ]
     },
     "execution_count": 35,
     "metadata": {},
     "output_type": "execute_result"
    }
   ],
   "source": [
    "highest_score=summary[summary['score']>=30]\n",
    "highest_score"
   ]
  },
  {
   "cell_type": "code",
   "execution_count": 36,
   "id": "21a0da88",
   "metadata": {
    "execution": {
     "iopub.execute_input": "2022-11-17T14:23:25.986883Z",
     "iopub.status.busy": "2022-11-17T14:23:25.986509Z",
     "iopub.status.idle": "2022-11-17T14:23:26.521786Z",
     "shell.execute_reply": "2022-11-17T14:23:26.520573Z",
     "shell.execute_reply.started": "2022-11-17T14:23:25.986844Z"
    }
   },
   "outputs": [
    {
     "data": {
      "image/png": "[encoded data removed]",
      "text/plain": [
       "<Figure size 576x576 with 1 Axes>"
      ]
     },
     "metadata": {
      "needs_background": "light"
     },
     "output_type": "display_data"
    }
   ],
   "source": [
    "plt.subplots(figsize=(8,8))\n",
    "sns.set_style('whitegrid')\n",
    "\n",
    "ax=sns.scatterplot(data=summary, x='year_ceremony', y='score', hue='big_five_winner', size='big_five_winner')\n",
    "\n",
    "ax.set_ylim(bottom=0, top=(max(summary['score'])+5))\n",
    "ax.axhline(y=30, label='the cutoff line - score 30')\n",
    "ax.axhspan(ymin=30, ymax=max(summary['score']+5), xmin=0, xmax=1, alpha=0.2, label='chosen movies')\n",
    "\n",
    "ax.set_title('Score by year of ceremony', pad=10, weight='bold', fontsize=20)\n",
    "ax.set_xlabel('Year of the cerenomy', fontsize=14)\n",
    "ax.set_ylabel('Score',fontsize=14)\n",
    "ax.tick_params(labelsize='large', grid_alpha=0.5)\n",
    "\n",
    "plt.legend(title='Number of big-five awars', loc=2, bbox_to_anchor=(1,1), fontsize=10)\n",
    "\n",
    "plt.show()"
   ]
  },
  {
   "cell_type": "code",
   "execution_count": 40,
   "id": "693a63ad",
   "metadata": {
    "execution": {
     "iopub.execute_input": "2022-11-17T14:50:06.295001Z",
     "iopub.status.busy": "2022-11-17T14:50:06.293947Z",
     "iopub.status.idle": "2022-11-17T14:50:06.920411Z",
     "shell.execute_reply": "2022-11-17T14:50:06.919294Z",
     "shell.execute_reply.started": "2022-11-17T14:50:06.294956Z"
    }
   },
   "outputs": [
    {
     "data": {
      "image/png": "[encoded data removed]",
      "text/plain": [
       "<Figure size 576x576 with 1 Axes>"
      ]
     },
     "metadata": {},
     "output_type": "display_data"
    }
   ],
   "source": [
    "fig, ax=plt.subplots(figsize=(8,8))\n",
    "\n",
    "highest_score.plot(x='film', \n",
    "                   y=['big_five_winner', 'other_winner','big_five_nominated_only','other_nominate_only'],\n",
    "                   kind='bar', \n",
    "                   stacked=True,\n",
    "                  label=['The Big Five winner','Winner of other awards','Nominated to the Big Five Award','Nominated to Oother awards'],\n",
    "                  ax=ax)\n",
    "\n",
    "plt.show()"
   ]
  },
  {
   "cell_type": "markdown",
   "id": "92c4ae24",
   "metadata": {
    "execution": {
     "iopub.execute_input": "2022-11-17T14:15:25.612992Z",
     "iopub.status.busy": "2022-11-17T14:15:25.612510Z",
     "iopub.status.idle": "2022-11-17T14:15:25.629821Z",
     "shell.execute_reply": "2022-11-17T14:15:25.628502Z",
     "shell.execute_reply.started": "2022-11-17T14:15:25.612955Z"
    }
   },
   "source": [
    "As you can see above, the score of 30 as the cutoff point removes many movies that won 4 big awards,\n",
    "but includes movies that have has many nominations - so, there could also be intresting.\n",
    "\n",
    "I will start to epricially test the hypothesis, and if refutes, I can adjust the cutoff criteria!\n",
    "\n",
    "Happy watching!!:)"
   ]
  },
  {
   "cell_type": "markdown",
   "id": "908c10bb",
   "metadata": {},
   "source": [
    "# Comments and next steps"
   ]
  },
  {
   "cell_type": "markdown",
   "id": "0cd516cc",
   "metadata": {},
   "source": [
    "## Comments "
   ]
  },
  {
   "cell_type": "markdown",
   "id": "285426b8",
   "metadata": {},
   "source": [
    "I have compared my results with Wikipedia, and... they do not match.\n",
    "However, it seems that the descripancy comes from the definition of screenplay.\n",
    "Looking at two movies, which according to Wikipedia received an award for screenplay (the big five):\n",
    "- \"One Flew over the Cuckoo's Nest\"\n",
    "- \"It Happened One Night\"\n",
    "\n",
    "I see that they received an award for adapted screen play, respectively:\n",
    "- writing (screenplay adapted from other material)\n",
    "- writing (adaptation)\n",
    "\n",
    "It also makes sense, because as you could see on the diagram above, no movies received all 5 Oscars...\n",
    "\n",
    "One of the criteria I used to identified the best screenplay academy award was that it has to be **original**, i.e. not adopted and the movies above do not classify.\n",
    "\n",
    "Nonetheless, I am ok with that, mostly because my family likes original plot more than an adaptation, but this could also change in the future:)\n"
   ]
  },
  {
   "cell_type": "code",
   "execution_count": 38,
   "id": "1d9fed0a",
   "metadata": {
    "execution": {
     "iopub.execute_input": "2022-11-17T14:23:26.524322Z",
     "iopub.status.busy": "2022-11-17T14:23:26.523879Z",
     "iopub.status.idle": "2022-11-17T14:23:26.541075Z",
     "shell.execute_reply": "2022-11-17T14:23:26.539812Z",
     "shell.execute_reply.started": "2022-11-17T14:23:26.524284Z"
    }
   },
   "outputs": [
    {
     "data": {
      "text/plain": [
       "266                     actor\n",
       "269                   actress\n",
       "282                 directing\n",
       "301    outstanding production\n",
       "323      writing (adaptation)\n",
       "Name: category, dtype: object"
      ]
     },
     "metadata": {},
     "output_type": "display_data"
    },
    {
     "data": {
      "text/plain": [
       "5299                                               actor\n",
       "5304                          actor in a supporting role\n",
       "5310                                             actress\n",
       "5327                                      cinematography\n",
       "5337                                           directing\n",
       "5351                                        film editing\n",
       "5361                              music (original score)\n",
       "5375                                        best picture\n",
       "5397    writing (screenplay adapted from other material)\n",
       "Name: category, dtype: object"
      ]
     },
     "metadata": {},
     "output_type": "display_data"
    }
   ],
   "source": [
    "display(oscars[oscars[\"film\"]==\"It Happened One Night\"]['category'],\n",
    "        oscars[oscars[\"film\"]==\"One Flew over the Cuckoo's Nest\"]['category'])"
   ]
  },
  {
   "cell_type": "markdown",
   "id": "04060665",
   "metadata": {},
   "source": [
    "## Next steps"
   ]
  },
  {
   "cell_type": "markdown",
   "id": "f5e08afe",
   "metadata": {},
   "source": [
    "For me, to make a more informed decision, two key features need to be added:\n",
    "- genre\n",
    "- imdb score\n",
    "- put back actors\n",
    "- length\n",
    "\n",
    "I think these might be significant to make any kinbd of predictions and informed decisions"
   ]
  }
 ],
 "metadata": {
  "kernelspec": {
   "display_name": "Python 3 (ipykernel)",
   "language": "python",
   "name": "python3"
  },
  "language_info": {
   "codemirror_mode": {
    "name": "ipython",
    "version": 3
   },
   "file_extension": ".py",
   "mimetype": "text/x-python",
   "name": "python",
   "nbconvert_exporter": "python",
   "pygments_lexer": "ipython3",
   "version": "3.10.5"
  },
  "toc": {
   "base_numbering": 1,
   "nav_menu": {},
   "number_sections": true,
   "sideBar": true,
   "skip_h1_title": false,
   "title_cell": "Table of Contents",
   "title_sidebar": "Contents",
   "toc_cell": false,
   "toc_position": {},
   "toc_section_display": true,
   "toc_window_display": true
  }
 },
 "nbformat": 4,
 "nbformat_minor": 5
}
